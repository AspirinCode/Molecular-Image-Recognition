{
 "cells": [
  {
   "cell_type": "code",
   "execution_count": 1,
   "metadata": {
    "collapsed": true
   },
   "outputs": [],
   "source": [
    "from rmgpy.molecule import Molecule\n",
    "from IPython.display import display\n",
    "import random"
   ]
  },
  {
   "cell_type": "code",
   "execution_count": 2,
   "metadata": {
    "collapsed": true
   },
   "outputs": [],
   "source": [
    "def count_up():\n",
    "    i=0\n",
    "    while True:\n",
    "        i += 1\n",
    "        yield i"
   ]
  },
  {
   "cell_type": "code",
   "execution_count": 3,
   "metadata": {
    "collapsed": true
   },
   "outputs": [],
   "source": [
    "def display_random_alkane(N):\n",
    "    \"\"\"Displays N randomly generated alkane molecule images\"\"\"\n",
    "    n = 0\n",
    "    while n<N:\n",
    "        counts = count_up()  # Used to increment ring label  numbers\n",
    "        # fragment[0]: alkyl chain, fragment[1]: ring\n",
    "        fragment_list = [('C', (0, 1)), ('C{0}{1}C{0}', (0, 0.1))]  # (fragment_base_pattern, (lognorm_mean, lognorm_variance))\n",
    "        ring_list = [4]*5 + [3]*4 + [2]  # 5/10 chance for 6 member ring, 4/10 chance for 5 member ring, 1/10 for 4 member ring \n",
    "        smile_string = ''\n",
    "        while True:\n",
    "            action_variable = random.normalvariate(0, 1)  # Decide what to do based on this random number\n",
    "\n",
    "            if action_variable < -1:  # Add ring\n",
    "                fragment = (fragment_list[1][0].format(counts.next(), 'C'*ring_list[random.randint(0, 9)]), \n",
    "                            fragment_list[1][1])\n",
    "            elif action_variable < 0.5:  # Add alkyl chain\n",
    "                fragment = fragment_list[0]\n",
    "            elif smile_string != '':  # Molecule is finished\n",
    "                break\n",
    "            else:  # Molecule is blank, start over\n",
    "                continue\n",
    "\n",
    "            smile_addition = fragment[0]*(int(random.lognormvariate(*fragment[1]))+1)\n",
    "\n",
    "            if smile_string == '':\n",
    "                smile_string = smile_addition\n",
    "            else:  # Add fragment to random position in the existing SMILES string\n",
    "                index = random.randint(0, len(smile_string)-1)\n",
    "                if index == 0:\n",
    "                    smile_string = smile_addition + smile_string\n",
    "                else:\n",
    "                    smile_string = smile_string[:index] + '({})'.format(smile_addition) + smile_string[index:]\n",
    "\n",
    "        try:\n",
    "            molecule = Molecule().fromSMILES(smile_string)\n",
    "            molecule.toSMARTS()  # To check for valency issues (i.e. carbon with 5 bonds)\n",
    "            molecule.draw('../data/hough_test/Test_Set_1/{0}.svg'.format(smile_string))\n",
    "        except:  # Invalid molecule was achieved, start over\n",
    "            display_random_alkane(1)\n",
    "            \n",
    "        n += 1"
   ]
  },
  {
   "cell_type": "code",
   "execution_count": 4,
   "metadata": {},
   "outputs": [],
   "source": [
    "display_random_alkane(100)"
   ]
  },
  {
   "cell_type": "code",
   "execution_count": null,
   "metadata": {
    "collapsed": true
   },
   "outputs": [],
   "source": []
  }
 ],
 "metadata": {
  "kernelspec": {
   "display_name": "Python 2",
   "language": "python",
   "name": "python2"
  },
  "language_info": {
   "codemirror_mode": {
    "name": "ipython",
    "version": 2
   },
   "file_extension": ".py",
   "mimetype": "text/x-python",
   "name": "python",
   "nbconvert_exporter": "python",
   "pygments_lexer": "ipython2",
   "version": "2.7.13"
  }
 },
 "nbformat": 4,
 "nbformat_minor": 1
}
